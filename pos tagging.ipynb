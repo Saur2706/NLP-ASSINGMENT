{
 "cells": [
  {
   "cell_type": "code",
   "execution_count": 2,
   "id": "8dc705a2-a787-4c86-86fd-d739bddf512d",
   "metadata": {},
   "outputs": [
    {
     "name": "stdout",
     "output_type": "stream",
     "text": [
      "Sentence with POS tags:\n",
      "I (PRP)\n",
      "am (VBP)\n",
      "learning (VBG)\n",
      "NLP (NNP)\n",
      "in (IN)\n",
      "Python (NNP)\n",
      ". (.)\n"
     ]
    }
   ],
   "source": [
    "import nltk\n",
    "\n",
    "# Define the sentence\n",
    "sentence = \"I am learning NLP in Python.\"\n",
    "\n",
    "# Tokenize the sentence\n",
    "tokens = nltk.word_tokenize(sentence)\n",
    "\n",
    "# Perform POS tagging\n",
    "pos_tags = nltk.pos_tag(tokens)\n",
    "\n",
    "# Print the sentence with its POS tags\n",
    "print(\"Sentence with POS tags:\")\n",
    "for word, tag in pos_tags:\n",
    "    print(f\"{word} ({tag})\")\n"
   ]
  },
  {
   "cell_type": "code",
   "execution_count": null,
   "id": "485499e0-47b1-435c-b941-7871695d5cf0",
   "metadata": {},
   "outputs": [],
   "source": []
  }
 ],
 "metadata": {
  "kernelspec": {
   "display_name": "Python 3 (ipykernel)",
   "language": "python",
   "name": "python3"
  },
  "language_info": {
   "codemirror_mode": {
    "name": "ipython",
    "version": 3
   },
   "file_extension": ".py",
   "mimetype": "text/x-python",
   "name": "python",
   "nbconvert_exporter": "python",
   "pygments_lexer": "ipython3",
   "version": "3.12.4"
  }
 },
 "nbformat": 4,
 "nbformat_minor": 5
}
